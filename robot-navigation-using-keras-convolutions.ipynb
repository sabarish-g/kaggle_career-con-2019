{
 "cells": [
  {
   "cell_type": "code",
   "execution_count": 1,
   "metadata": {
    "_cell_guid": "b1076dfc-b9ad-4769-8c92-a6c4dae69d19",
    "_uuid": "8f2839f25d086af736a60e9eeb907d3b93b6e0e5"
   },
   "outputs": [
    {
     "name": "stdout",
     "output_type": "stream",
     "text": [
      "['y_train.csv', 'sample_submission.csv', 'X_test.csv', 'X_train.csv']\n"
     ]
    }
   ],
   "source": [
    "# This Python 3 environment comes with many helpful analytics libraries installed\n",
    "# It is defined by the kaggle/python docker image: https://github.com/kaggle/docker-python\n",
    "# For example, here's several helpful packages to load in \n",
    "\n",
    "import numpy as np # linear algebra\n",
    "import pandas as pd # data processing, CSV file I/O (e.g. pd.read_csv)\n",
    "\n",
    "# Input data files are available in the \"../input/\" directory.\n",
    "# For example, running this (by clicking run or pressing Shift+Enter) will list the files in the input directory\n",
    "\n",
    "import os\n",
    "print(os.listdir(\"../input\"))\n",
    "\n",
    "# Any results you write to the current directory are saved as output."
   ]
  },
  {
   "cell_type": "code",
   "execution_count": 2,
   "metadata": {
    "_uuid": "da460c6a82239f804114838b43ab4878757d9db1"
   },
   "outputs": [
    {
     "name": "stderr",
     "output_type": "stream",
     "text": [
      "Using TensorFlow backend.\n"
     ]
    }
   ],
   "source": [
    "from sklearn.model_selection import train_test_split\n",
    "import keras\n",
    "import tensorflow as tf\n",
    "import matplotlib.pyplot as plt\n",
    "from keras.models import Sequential\n",
    "from keras.layers import Conv1D, Conv2D, MaxPooling2D, MaxPooling1D, Activation,Flatten, Dense, Dropout\n",
    "from keras.optimizers import RMSprop\n",
    "from sklearn.preprocessing import LabelEncoder"
   ]
  },
  {
   "cell_type": "code",
   "execution_count": 3,
   "metadata": {
    "_uuid": "e4a0a8ba00a6f70b0ac85f490ccb2f69a617ebc4"
   },
   "outputs": [],
   "source": [
    "x_train = pd.read_csv('../input/X_train.csv')\n",
    "y_train = pd.read_csv('../input/y_train.csv')\n",
    "x_test = pd.read_csv('../input/X_test.csv')"
   ]
  },
  {
   "cell_type": "code",
   "execution_count": 4,
   "metadata": {
    "_uuid": "31c8125daf3f88c72febe1f699feb7c24f85c65f"
   },
   "outputs": [
    {
     "data": {
      "text/html": [
       "<div>\n",
       "<style scoped>\n",
       "    .dataframe tbody tr th:only-of-type {\n",
       "        vertical-align: middle;\n",
       "    }\n",
       "\n",
       "    .dataframe tbody tr th {\n",
       "        vertical-align: top;\n",
       "    }\n",
       "\n",
       "    .dataframe thead th {\n",
       "        text-align: right;\n",
       "    }\n",
       "</style>\n",
       "<table border=\"1\" class=\"dataframe\">\n",
       "  <thead>\n",
       "    <tr style=\"text-align: right;\">\n",
       "      <th></th>\n",
       "      <th>row_id</th>\n",
       "      <th>measurement_number</th>\n",
       "      <th>orientation_X</th>\n",
       "      <th>orientation_Y</th>\n",
       "      <th>orientation_Z</th>\n",
       "      <th>orientation_W</th>\n",
       "      <th>angular_velocity_X</th>\n",
       "      <th>angular_velocity_Y</th>\n",
       "      <th>angular_velocity_Z</th>\n",
       "      <th>linear_acceleration_X</th>\n",
       "      <th>linear_acceleration_Y</th>\n",
       "      <th>linear_acceleration_Z</th>\n",
       "    </tr>\n",
       "    <tr>\n",
       "      <th>series_id</th>\n",
       "      <th></th>\n",
       "      <th></th>\n",
       "      <th></th>\n",
       "      <th></th>\n",
       "      <th></th>\n",
       "      <th></th>\n",
       "      <th></th>\n",
       "      <th></th>\n",
       "      <th></th>\n",
       "      <th></th>\n",
       "      <th></th>\n",
       "      <th></th>\n",
       "    </tr>\n",
       "  </thead>\n",
       "  <tbody>\n",
       "    <tr>\n",
       "      <th>0</th>\n",
       "      <td>128</td>\n",
       "      <td>128</td>\n",
       "      <td>128</td>\n",
       "      <td>128</td>\n",
       "      <td>128</td>\n",
       "      <td>128</td>\n",
       "      <td>128</td>\n",
       "      <td>128</td>\n",
       "      <td>128</td>\n",
       "      <td>128</td>\n",
       "      <td>128</td>\n",
       "      <td>128</td>\n",
       "    </tr>\n",
       "    <tr>\n",
       "      <th>1</th>\n",
       "      <td>128</td>\n",
       "      <td>128</td>\n",
       "      <td>128</td>\n",
       "      <td>128</td>\n",
       "      <td>128</td>\n",
       "      <td>128</td>\n",
       "      <td>128</td>\n",
       "      <td>128</td>\n",
       "      <td>128</td>\n",
       "      <td>128</td>\n",
       "      <td>128</td>\n",
       "      <td>128</td>\n",
       "    </tr>\n",
       "    <tr>\n",
       "      <th>2</th>\n",
       "      <td>128</td>\n",
       "      <td>128</td>\n",
       "      <td>128</td>\n",
       "      <td>128</td>\n",
       "      <td>128</td>\n",
       "      <td>128</td>\n",
       "      <td>128</td>\n",
       "      <td>128</td>\n",
       "      <td>128</td>\n",
       "      <td>128</td>\n",
       "      <td>128</td>\n",
       "      <td>128</td>\n",
       "    </tr>\n",
       "  </tbody>\n",
       "</table>\n",
       "</div>"
      ],
      "text/plain": [
       "           row_id          ...            linear_acceleration_Z\n",
       "series_id                  ...                                 \n",
       "0             128          ...                              128\n",
       "1             128          ...                              128\n",
       "2             128          ...                              128\n",
       "\n",
       "[3 rows x 12 columns]"
      ]
     },
     "execution_count": 4,
     "metadata": {},
     "output_type": "execute_result"
    }
   ],
   "source": [
    "x_train.groupby('series_id').count().head(3)"
   ]
  },
  {
   "cell_type": "code",
   "execution_count": 5,
   "metadata": {
    "_uuid": "5f1a409a966e04f427b518f6214de79bcae9eb30"
   },
   "outputs": [
    {
     "data": {
      "text/plain": [
       "array([13, 31, 20, 22,  1, 34, 33, 11, 26, 25, 12,  7, 21,  8,  9, 28, 15,\n",
       "       27, 35, 32, 23, 14, 30,  3, 29, 16,  0, 10, 19,  4, 18,  6, 17,  5,\n",
       "        2, 24, 69, 70, 71, 60, 62, 59, 45, 56, 41, 53, 40, 68, 49, 46, 42,\n",
       "       38, 61, 43, 51, 44, 55, 65, 37, 57, 54, 72, 64, 66, 36, 48, 47, 52,\n",
       "       39, 58, 50, 63, 67])"
      ]
     },
     "execution_count": 5,
     "metadata": {},
     "output_type": "execute_result"
    }
   ],
   "source": [
    "y_train['group_id'].unique()"
   ]
  },
  {
   "cell_type": "code",
   "execution_count": 6,
   "metadata": {
    "_uuid": "012bb027aacab625dbca48dca88508a5497d2982"
   },
   "outputs": [
    {
     "data": {
      "image/png": "[encoded data removed]",
      "text/plain": [
       "<Figure size 1008x576 with 1 Axes>"
      ]
     },
     "metadata": {},
     "output_type": "display_data"
    }
   ],
   "source": [
    "plt.figure(figsize = (10,10))\n",
    "ax = y_train['surface'].value_counts().plot(kind='bar',\n",
    "                                    figsize=(14,8),\n",
    "                                    title=\"Counting by surface\")"
   ]
  },
  {
   "cell_type": "code",
   "execution_count": 7,
   "metadata": {
    "_uuid": "db74d09fb0d7900179fd5a7fb1ed3630c7a4e43f"
   },
   "outputs": [],
   "source": [
    "x_train = x_train.drop(['row_id', \"series_id\", \"measurement_number\"], axis=1)\n",
    "y_train = y_train.drop(['group_id', \"series_id\"], axis=1)\n",
    "x_train =x_train.values.reshape((3810, 128, 10))\n",
    "y_train =y_train.values.reshape((3810, 1))"
   ]
  },
  {
   "cell_type": "code",
   "execution_count": 8,
   "metadata": {
    "_uuid": "013f5721f17bccee519cc123678e8168dbc859f5"
   },
   "outputs": [
    {
     "name": "stdout",
     "output_type": "stream",
     "text": [
      "y_train shape is (3810,)\n"
     ]
    },
    {
     "name": "stderr",
     "output_type": "stream",
     "text": [
      "/opt/conda/lib/python3.6/site-packages/sklearn/preprocessing/label.py:235: DataConversionWarning: A column-vector y was passed when a 1d array was expected. Please change the shape of y to (n_samples, ), for example using ravel().\n",
      "  y = column_or_1d(y, warn=True)\n"
     ]
    }
   ],
   "source": [
    "le = LabelEncoder()\n",
    "y_train = le.fit_transform(y_train)\n",
    "print('y_train shape is {}'.format(str(y_train.shape)))"
   ]
  },
  {
   "cell_type": "code",
   "execution_count": 9,
   "metadata": {
    "_uuid": "b96aa99ecbfa4edb95efb50cf4e5eafa6e4e09b9"
   },
   "outputs": [
    {
     "name": "stdout",
     "output_type": "stream",
     "text": [
      "(3238, 128, 10) (3238,) (572, 128, 10) (572,)\n"
     ]
    }
   ],
   "source": [
    "x_tr, x_te,y_tr, y_te = train_test_split(x_train, y_train, test_size = 0.15)\n",
    "print(x_tr.shape, y_tr.shape, x_te.shape, y_te.shape)"
   ]
  },
  {
   "cell_type": "markdown",
   "metadata": {
    "_uuid": "01a5cbbab1fd7d717e221c039cc126159c3a2318"
   },
   "source": [
    "We can treat this as an image of shape 128x10 and we have 3238 such images"
   ]
  },
  {
   "cell_type": "code",
   "execution_count": 10,
   "metadata": {
    "_uuid": "1c88929633edbe8c4caa036b01d6550159c00483"
   },
   "outputs": [],
   "source": [
    "\n",
    "model = Sequential()\n",
    "model.add(Conv1D(filters = 128, kernel_size = 7, strides = 1, padding = 'same', input_shape = (128,10),activation='relu'))\n",
    "model.add(Conv1D(filters = 128, kernel_size = 7, strides = 1, padding = 'same',activation='relu'))\n",
    "model.add(MaxPooling1D(pool_size=2))\n",
    "model.add(Conv1D(filters = 64, kernel_size = 5, strides = 1, padding = 'same',activation='relu'))\n",
    "model.add(Conv1D(filters = 64, kernel_size = 5, strides = 1, padding = 'same',activation='relu'))\n",
    "model.add(MaxPooling1D(pool_size=2))\n",
    "model.add(Conv1D(filters = 32, kernel_size = 3, strides = 1, padding = 'same',activation='relu'))\n",
    "model.add(Conv1D(filters = 32, kernel_size = 3, strides = 1, padding = 'same',activation='relu'))\n",
    "model.add(MaxPooling1D(pool_size=2))\n",
    "model.add(Flatten())\n",
    "model.add(Dense(512, activation='relu'))\n",
    "model.add(Dropout(0.15))\n",
    "model.add(Dense(256, activation='relu'))\n",
    "model.add(Dropout(0.15))\n",
    "model.add(Dense(128, activation='relu'))\n",
    "model.add(Dropout(0.15))\n",
    "model.add(Dense(9, activation='softmax'))\n"
   ]
  },
  {
   "cell_type": "code",
   "execution_count": 11,
   "metadata": {
    "_uuid": "06a413a4e5d8f1c1775db8f8ed6011b73e6a60b0"
   },
   "outputs": [
    {
     "name": "stdout",
     "output_type": "stream",
     "text": [
      "_________________________________________________________________\n",
      "Layer (type)                 Output Shape              Param #   \n",
      "=================================================================\n",
      "conv1d_1 (Conv1D)            (None, 128, 128)          9088      \n",
      "_________________________________________________________________\n",
      "conv1d_2 (Conv1D)            (None, 128, 128)          114816    \n",
      "_________________________________________________________________\n",
      "max_pooling1d_1 (MaxPooling1 (None, 64, 128)           0         \n",
      "_________________________________________________________________\n",
      "conv1d_3 (Conv1D)            (None, 64, 64)            41024     \n",
      "_________________________________________________________________\n",
      "conv1d_4 (Conv1D)            (None, 64, 64)            20544     \n",
      "_________________________________________________________________\n",
      "max_pooling1d_2 (MaxPooling1 (None, 32, 64)            0         \n",
      "_________________________________________________________________\n",
      "conv1d_5 (Conv1D)            (None, 32, 32)            6176      \n",
      "_________________________________________________________________\n",
      "conv1d_6 (Conv1D)            (None, 32, 32)            3104      \n",
      "_________________________________________________________________\n",
      "max_pooling1d_3 (MaxPooling1 (None, 16, 32)            0         \n",
      "_________________________________________________________________\n",
      "flatten_1 (Flatten)          (None, 512)               0         \n",
      "_________________________________________________________________\n",
      "dense_1 (Dense)              (None, 512)               262656    \n",
      "_________________________________________________________________\n",
      "dropout_1 (Dropout)          (None, 512)               0         \n",
      "_________________________________________________________________\n",
      "dense_2 (Dense)              (None, 256)               131328    \n",
      "_________________________________________________________________\n",
      "dropout_2 (Dropout)          (None, 256)               0         \n",
      "_________________________________________________________________\n",
      "dense_3 (Dense)              (None, 128)               32896     \n",
      "_________________________________________________________________\n",
      "dropout_3 (Dropout)          (None, 128)               0         \n",
      "_________________________________________________________________\n",
      "dense_4 (Dense)              (None, 9)                 1161      \n",
      "=================================================================\n",
      "Total params: 622,793\n",
      "Trainable params: 622,793\n",
      "Non-trainable params: 0\n",
      "_________________________________________________________________\n"
     ]
    }
   ],
   "source": [
    "model.summary()"
   ]
  },
  {
   "cell_type": "code",
   "execution_count": 12,
   "metadata": {
    "_uuid": "4c1926b486a34a969318b16a5ed6b0c84c52aa91"
   },
   "outputs": [],
   "source": [
    "model.compile(loss='sparse_categorical_crossentropy',\n",
    "              optimizer='adam',\n",
    "              metrics=['accuracy'])"
   ]
  },
  {
   "cell_type": "code",
   "execution_count": 13,
   "metadata": {
    "_uuid": "653416fe19f7d9c8497d1e1fe9509891f01fdcc1"
   },
   "outputs": [
    {
     "name": "stdout",
     "output_type": "stream",
     "text": [
      "Train on 3238 samples, validate on 572 samples\n",
      "Epoch 1/50\n",
      "3238/3238 [==============================] - 3s 1ms/step - loss: 1.8673 - acc: 0.2888 - val_loss: 1.7350 - val_acc: 0.3304\n",
      "Epoch 2/50\n",
      "3238/3238 [==============================] - 0s 126us/step - loss: 1.6564 - acc: 0.3595 - val_loss: 1.5439 - val_acc: 0.3497\n",
      "Epoch 3/50\n",
      "3238/3238 [==============================] - 0s 127us/step - loss: 1.5497 - acc: 0.3765 - val_loss: 1.4918 - val_acc: 0.4353\n",
      "Epoch 4/50\n",
      "3238/3238 [==============================] - 0s 126us/step - loss: 1.4497 - acc: 0.4373 - val_loss: 1.4620 - val_acc: 0.4388\n",
      "Epoch 5/50\n",
      "3238/3238 [==============================] - 0s 126us/step - loss: 1.3783 - acc: 0.4839 - val_loss: 1.4579 - val_acc: 0.4633\n",
      "Epoch 6/50\n",
      "3238/3238 [==============================] - 0s 126us/step - loss: 1.2911 - acc: 0.5191 - val_loss: 1.2831 - val_acc: 0.5280\n",
      "Epoch 7/50\n",
      "3238/3238 [==============================] - 0s 124us/step - loss: 1.2608 - acc: 0.5417 - val_loss: 1.3484 - val_acc: 0.5175\n",
      "Epoch 8/50\n",
      "3238/3238 [==============================] - 0s 125us/step - loss: 1.1945 - acc: 0.5593 - val_loss: 1.2655 - val_acc: 0.5192\n",
      "Epoch 9/50\n",
      "3238/3238 [==============================] - 0s 125us/step - loss: 1.1279 - acc: 0.5880 - val_loss: 1.2058 - val_acc: 0.5699\n",
      "Epoch 10/50\n",
      "3238/3238 [==============================] - 0s 126us/step - loss: 1.1059 - acc: 0.6001 - val_loss: 1.1886 - val_acc: 0.5822\n",
      "Epoch 11/50\n",
      "3238/3238 [==============================] - 0s 126us/step - loss: 1.0405 - acc: 0.6204 - val_loss: 1.1349 - val_acc: 0.5857\n",
      "Epoch 12/50\n",
      "3238/3238 [==============================] - 0s 125us/step - loss: 0.9577 - acc: 0.6560 - val_loss: 1.2490 - val_acc: 0.5787\n",
      "Epoch 13/50\n",
      "3238/3238 [==============================] - 0s 126us/step - loss: 0.9122 - acc: 0.6668 - val_loss: 1.3917 - val_acc: 0.5507\n",
      "Epoch 14/50\n",
      "3238/3238 [==============================] - 0s 125us/step - loss: 0.9362 - acc: 0.6760 - val_loss: 1.3446 - val_acc: 0.5420\n",
      "Epoch 15/50\n",
      "3238/3238 [==============================] - 0s 127us/step - loss: 0.8498 - acc: 0.7020 - val_loss: 1.1452 - val_acc: 0.5979\n",
      "Epoch 16/50\n",
      "3238/3238 [==============================] - 0s 127us/step - loss: 0.7250 - acc: 0.7489 - val_loss: 1.1710 - val_acc: 0.5979\n",
      "Epoch 17/50\n",
      "3238/3238 [==============================] - 0s 128us/step - loss: 0.7486 - acc: 0.7356 - val_loss: 1.1314 - val_acc: 0.6276\n",
      "Epoch 18/50\n",
      "3238/3238 [==============================] - 0s 126us/step - loss: 0.7113 - acc: 0.7554 - val_loss: 1.1936 - val_acc: 0.6189\n",
      "Epoch 19/50\n",
      "3238/3238 [==============================] - 0s 134us/step - loss: 0.6115 - acc: 0.7900 - val_loss: 1.1604 - val_acc: 0.6049\n",
      "Epoch 20/50\n",
      "3238/3238 [==============================] - 0s 136us/step - loss: 0.5921 - acc: 0.7993 - val_loss: 1.2684 - val_acc: 0.6364\n",
      "Epoch 21/50\n",
      "3238/3238 [==============================] - 0s 136us/step - loss: 0.5530 - acc: 0.8156 - val_loss: 1.1453 - val_acc: 0.6294\n",
      "Epoch 22/50\n",
      "3238/3238 [==============================] - 0s 136us/step - loss: 0.4777 - acc: 0.8357 - val_loss: 1.2878 - val_acc: 0.5979\n",
      "Epoch 23/50\n",
      "3238/3238 [==============================] - 0s 135us/step - loss: 0.4753 - acc: 0.8354 - val_loss: 1.4887 - val_acc: 0.6224\n",
      "Epoch 24/50\n",
      "3238/3238 [==============================] - 0s 136us/step - loss: 0.4552 - acc: 0.8419 - val_loss: 1.4450 - val_acc: 0.6224\n",
      "Epoch 25/50\n",
      "3238/3238 [==============================] - 0s 137us/step - loss: 0.3894 - acc: 0.8712 - val_loss: 1.4026 - val_acc: 0.6538\n",
      "Epoch 26/50\n",
      "3238/3238 [==============================] - 0s 134us/step - loss: 0.3900 - acc: 0.8703 - val_loss: 1.5574 - val_acc: 0.5857\n",
      "Epoch 27/50\n",
      "3238/3238 [==============================] - 0s 136us/step - loss: 0.4520 - acc: 0.8518 - val_loss: 1.4580 - val_acc: 0.5787\n",
      "Epoch 28/50\n",
      "3238/3238 [==============================] - 0s 135us/step - loss: 0.3939 - acc: 0.8647 - val_loss: 1.3210 - val_acc: 0.6486\n",
      "Epoch 29/50\n",
      "3238/3238 [==============================] - 0s 136us/step - loss: 0.3022 - acc: 0.8950 - val_loss: 1.5670 - val_acc: 0.6084\n",
      "Epoch 30/50\n",
      "3238/3238 [==============================] - 0s 134us/step - loss: 0.3313 - acc: 0.8876 - val_loss: 1.4482 - val_acc: 0.6573\n",
      "Epoch 31/50\n",
      "3238/3238 [==============================] - 0s 135us/step - loss: 0.2915 - acc: 0.9033 - val_loss: 1.8708 - val_acc: 0.6259\n",
      "Epoch 32/50\n",
      "3238/3238 [==============================] - 0s 135us/step - loss: 0.2888 - acc: 0.9067 - val_loss: 1.6136 - val_acc: 0.6486\n",
      "Epoch 33/50\n",
      "3238/3238 [==============================] - 0s 135us/step - loss: 0.2793 - acc: 0.9058 - val_loss: 1.6531 - val_acc: 0.6294\n",
      "Epoch 34/50\n",
      "3238/3238 [==============================] - 0s 135us/step - loss: 0.2664 - acc: 0.9132 - val_loss: 1.5249 - val_acc: 0.6346\n",
      "Epoch 35/50\n",
      "3238/3238 [==============================] - 0s 135us/step - loss: 0.2568 - acc: 0.9154 - val_loss: 1.6064 - val_acc: 0.6206\n",
      "Epoch 36/50\n",
      "3238/3238 [==============================] - 0s 135us/step - loss: 0.2011 - acc: 0.9358 - val_loss: 1.7613 - val_acc: 0.6084\n",
      "Epoch 37/50\n",
      "3238/3238 [==============================] - 0s 135us/step - loss: 0.2425 - acc: 0.9234 - val_loss: 1.7381 - val_acc: 0.6521\n",
      "Epoch 38/50\n",
      "3238/3238 [==============================] - 0s 134us/step - loss: 0.2217 - acc: 0.9243 - val_loss: 1.8769 - val_acc: 0.6399\n",
      "Epoch 39/50\n",
      "3238/3238 [==============================] - 0s 135us/step - loss: 0.1827 - acc: 0.9401 - val_loss: 1.6117 - val_acc: 0.6294\n",
      "Epoch 40/50\n",
      "3238/3238 [==============================] - 0s 138us/step - loss: 0.1577 - acc: 0.9490 - val_loss: 1.7559 - val_acc: 0.6451\n",
      "Epoch 41/50\n",
      "3238/3238 [==============================] - 0s 134us/step - loss: 0.2311 - acc: 0.9228 - val_loss: 1.8324 - val_acc: 0.6259\n",
      "Epoch 42/50\n",
      "3238/3238 [==============================] - 0s 125us/step - loss: 0.2267 - acc: 0.9290 - val_loss: 1.4354 - val_acc: 0.6678\n",
      "Epoch 43/50\n",
      "3238/3238 [==============================] - 0s 126us/step - loss: 0.1369 - acc: 0.9555 - val_loss: 1.8378 - val_acc: 0.6591\n",
      "Epoch 44/50\n",
      "3238/3238 [==============================] - 0s 126us/step - loss: 0.1216 - acc: 0.9614 - val_loss: 1.8352 - val_acc: 0.6364\n",
      "Epoch 45/50\n",
      "3238/3238 [==============================] - 0s 127us/step - loss: 0.1239 - acc: 0.9608 - val_loss: 1.9522 - val_acc: 0.6434\n",
      "Epoch 46/50\n",
      "3238/3238 [==============================] - 0s 126us/step - loss: 0.1095 - acc: 0.9620 - val_loss: 2.0689 - val_acc: 0.6294\n",
      "Epoch 47/50\n",
      "3238/3238 [==============================] - 0s 125us/step - loss: 0.1890 - acc: 0.9373 - val_loss: 2.1800 - val_acc: 0.6066\n",
      "Epoch 48/50\n",
      "3238/3238 [==============================] - 0s 127us/step - loss: 0.2155 - acc: 0.9345 - val_loss: 1.7356 - val_acc: 0.6224\n",
      "Epoch 49/50\n",
      "3238/3238 [==============================] - 0s 125us/step - loss: 0.1652 - acc: 0.9463 - val_loss: 1.8277 - val_acc: 0.6416\n",
      "Epoch 50/50\n",
      "3238/3238 [==============================] - 0s 126us/step - loss: 0.1129 - acc: 0.9645 - val_loss: 2.0954 - val_acc: 0.6311\n"
     ]
    }
   ],
   "source": [
    "model_fit = model.fit(x_tr, y_tr,\n",
    "                    batch_size=64,\n",
    "                    epochs=50,\n",
    "                    verbose=1,\n",
    "                    validation_data=(x_te, y_te))"
   ]
  },
  {
   "cell_type": "code",
   "execution_count": 14,
   "metadata": {
    "_uuid": "2977eb5023738edbb92954b43685f017fcc7a0fc"
   },
   "outputs": [],
   "source": [
    "x_test = x_test.drop(['row_id', \"series_id\", \"measurement_number\"], axis=1)\n",
    "x_test =x_test.values.reshape((3816, 128, 10))"
   ]
  },
  {
   "cell_type": "code",
   "execution_count": 15,
   "metadata": {
    "_uuid": "333af76ae70c86ce392f66ea6fba9602ec491426"
   },
   "outputs": [],
   "source": [
    "prediction = model.predict(x_test)\n",
    "prediction=np.argmax(prediction, axis=1)\n",
    "y_preds = le.inverse_transform(prediction)"
   ]
  },
  {
   "cell_type": "code",
   "execution_count": 16,
   "metadata": {
    "_uuid": "adc9df1647dad734249d59302d56fff4e07cfc82"
   },
   "outputs": [],
   "source": [
    "submission = pd.read_csv(\"../input/sample_submission.csv\")\n",
    "submission['surface'] = y_preds\n",
    "submission.to_csv('lstm_with_Fully_connected_layers.csv', index=False)"
   ]
  },
  {
   "cell_type": "code",
   "execution_count": 17,
   "metadata": {
    "_uuid": "1141f8d42ae9140bb7b1c10de22b4538487a514c"
   },
   "outputs": [],
   "source": []
  }
 ],
 "metadata": {
  "kernelspec": {
   "display_name": "Python 3",
   "language": "python",
   "name": "python3"
  },
  "language_info": {
   "codemirror_mode": {
    "name": "ipython",
    "version": 3
   },
   "file_extension": ".py",
   "mimetype": "text/x-python",
   "name": "python",
   "nbconvert_exporter": "python",
   "pygments_lexer": "ipython3",
   "version": "3.6.6"
  }
 },
 "nbformat": 4,
 "nbformat_minor": 1
}
